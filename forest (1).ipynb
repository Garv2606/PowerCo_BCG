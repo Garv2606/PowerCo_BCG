{
 "cells": [
  {
   "cell_type": "code",
   "execution_count": 1,
   "id": "927a5501-42dc-4d7a-a799-cec32f9edc92",
   "metadata": {},
   "outputs": [],
   "source": [
    "import pandas as pd\n",
    "import numpy as np\n",
    "import seaborn as sns\n",
    "from datetime import datetime\n",
    "import matplotlib.pyplot as plt"
   ]
  },
  {
   "cell_type": "code",
   "execution_count": 2,
   "id": "0c491010-d8a1-4cb5-9324-81436b4f0efc",
   "metadata": {},
   "outputs": [
    {
     "data": {
      "text/html": [
       "<div>\n",
       "<style scoped>\n",
       "    .dataframe tbody tr th:only-of-type {\n",
       "        vertical-align: middle;\n",
       "    }\n",
       "\n",
       "    .dataframe tbody tr th {\n",
       "        vertical-align: top;\n",
       "    }\n",
       "\n",
       "    .dataframe thead th {\n",
       "        text-align: right;\n",
       "    }\n",
       "</style>\n",
       "<table border=\"1\" class=\"dataframe\">\n",
       "  <thead>\n",
       "    <tr style=\"text-align: right;\">\n",
       "      <th></th>\n",
       "      <th>Unnamed: 0</th>\n",
       "      <th>id</th>\n",
       "      <th>cons_12m</th>\n",
       "      <th>cons_gas_12m</th>\n",
       "      <th>cons_last_month</th>\n",
       "      <th>forecast_cons_12m</th>\n",
       "      <th>forecast_discount_energy</th>\n",
       "      <th>forecast_meter_rent_12m</th>\n",
       "      <th>forecast_price_energy_off_peak</th>\n",
       "      <th>forecast_price_energy_peak</th>\n",
       "      <th>...</th>\n",
       "      <th>months_modif_prod</th>\n",
       "      <th>months_renewal</th>\n",
       "      <th>channel_MISSING</th>\n",
       "      <th>channel_ewpakwlliwisiwduibdlfmalxowmwpci</th>\n",
       "      <th>channel_foosdfpfkusacimwkcsosbicdxkicaua</th>\n",
       "      <th>channel_lmkebamcaaclubfxadlmueccxoimlema</th>\n",
       "      <th>channel_usilxuppasemubllopkaafesmlibmsdf</th>\n",
       "      <th>origin_up_kamkkxfxxuwbdslkwifmmcsiusiuosws</th>\n",
       "      <th>origin_up_ldkssxwpmemidmecebumciepifcamkci</th>\n",
       "      <th>origin_up_lxidpiddsbxsbosboudacockeimpuepw</th>\n",
       "    </tr>\n",
       "  </thead>\n",
       "  <tbody>\n",
       "    <tr>\n",
       "      <th>0</th>\n",
       "      <td>0</td>\n",
       "      <td>24011ae4ebbe3035111d65fa7c15bc57</td>\n",
       "      <td>0.000000</td>\n",
       "      <td>4.739944</td>\n",
       "      <td>0.000000</td>\n",
       "      <td>0.000000</td>\n",
       "      <td>0.0</td>\n",
       "      <td>0.444045</td>\n",
       "      <td>0.114481</td>\n",
       "      <td>0.098142</td>\n",
       "      <td>...</td>\n",
       "      <td>2</td>\n",
       "      <td>6</td>\n",
       "      <td>0</td>\n",
       "      <td>0</td>\n",
       "      <td>1</td>\n",
       "      <td>0</td>\n",
       "      <td>0</td>\n",
       "      <td>0</td>\n",
       "      <td>0</td>\n",
       "      <td>1</td>\n",
       "    </tr>\n",
       "    <tr>\n",
       "      <th>1</th>\n",
       "      <td>1</td>\n",
       "      <td>d29c2c54acc38ff3c0614d0a653813dd</td>\n",
       "      <td>3.668479</td>\n",
       "      <td>0.000000</td>\n",
       "      <td>0.000000</td>\n",
       "      <td>2.280920</td>\n",
       "      <td>0.0</td>\n",
       "      <td>1.237292</td>\n",
       "      <td>0.145711</td>\n",
       "      <td>0.000000</td>\n",
       "      <td>...</td>\n",
       "      <td>76</td>\n",
       "      <td>4</td>\n",
       "      <td>1</td>\n",
       "      <td>0</td>\n",
       "      <td>0</td>\n",
       "      <td>0</td>\n",
       "      <td>0</td>\n",
       "      <td>1</td>\n",
       "      <td>0</td>\n",
       "      <td>0</td>\n",
       "    </tr>\n",
       "    <tr>\n",
       "      <th>2</th>\n",
       "      <td>2</td>\n",
       "      <td>764c75f661154dac3a6c254cd082ea7d</td>\n",
       "      <td>2.736397</td>\n",
       "      <td>0.000000</td>\n",
       "      <td>0.000000</td>\n",
       "      <td>1.689841</td>\n",
       "      <td>0.0</td>\n",
       "      <td>1.599009</td>\n",
       "      <td>0.165794</td>\n",
       "      <td>0.087899</td>\n",
       "      <td>...</td>\n",
       "      <td>68</td>\n",
       "      <td>8</td>\n",
       "      <td>0</td>\n",
       "      <td>0</td>\n",
       "      <td>1</td>\n",
       "      <td>0</td>\n",
       "      <td>0</td>\n",
       "      <td>1</td>\n",
       "      <td>0</td>\n",
       "      <td>0</td>\n",
       "    </tr>\n",
       "    <tr>\n",
       "      <th>3</th>\n",
       "      <td>3</td>\n",
       "      <td>bba03439a292a1e166f80264c16191cb</td>\n",
       "      <td>3.200029</td>\n",
       "      <td>0.000000</td>\n",
       "      <td>0.000000</td>\n",
       "      <td>2.382089</td>\n",
       "      <td>0.0</td>\n",
       "      <td>1.318689</td>\n",
       "      <td>0.146694</td>\n",
       "      <td>0.000000</td>\n",
       "      <td>...</td>\n",
       "      <td>69</td>\n",
       "      <td>9</td>\n",
       "      <td>0</td>\n",
       "      <td>0</td>\n",
       "      <td>0</td>\n",
       "      <td>1</td>\n",
       "      <td>0</td>\n",
       "      <td>1</td>\n",
       "      <td>0</td>\n",
       "      <td>0</td>\n",
       "    </tr>\n",
       "    <tr>\n",
       "      <th>4</th>\n",
       "      <td>4</td>\n",
       "      <td>149d57cf92fc41cf94415803a877cb4b</td>\n",
       "      <td>3.646011</td>\n",
       "      <td>0.000000</td>\n",
       "      <td>2.721811</td>\n",
       "      <td>2.650065</td>\n",
       "      <td>0.0</td>\n",
       "      <td>2.122969</td>\n",
       "      <td>0.116900</td>\n",
       "      <td>0.100015</td>\n",
       "      <td>...</td>\n",
       "      <td>71</td>\n",
       "      <td>9</td>\n",
       "      <td>1</td>\n",
       "      <td>0</td>\n",
       "      <td>0</td>\n",
       "      <td>0</td>\n",
       "      <td>0</td>\n",
       "      <td>1</td>\n",
       "      <td>0</td>\n",
       "      <td>0</td>\n",
       "    </tr>\n",
       "  </tbody>\n",
       "</table>\n",
       "<p>5 rows × 64 columns</p>\n",
       "</div>"
      ],
      "text/plain": [
       "   Unnamed: 0                                id  cons_12m  cons_gas_12m  \\\n",
       "0           0  24011ae4ebbe3035111d65fa7c15bc57  0.000000      4.739944   \n",
       "1           1  d29c2c54acc38ff3c0614d0a653813dd  3.668479      0.000000   \n",
       "2           2  764c75f661154dac3a6c254cd082ea7d  2.736397      0.000000   \n",
       "3           3  bba03439a292a1e166f80264c16191cb  3.200029      0.000000   \n",
       "4           4  149d57cf92fc41cf94415803a877cb4b  3.646011      0.000000   \n",
       "\n",
       "   cons_last_month  forecast_cons_12m  forecast_discount_energy  \\\n",
       "0         0.000000           0.000000                       0.0   \n",
       "1         0.000000           2.280920                       0.0   \n",
       "2         0.000000           1.689841                       0.0   \n",
       "3         0.000000           2.382089                       0.0   \n",
       "4         2.721811           2.650065                       0.0   \n",
       "\n",
       "   forecast_meter_rent_12m  forecast_price_energy_off_peak  \\\n",
       "0                 0.444045                        0.114481   \n",
       "1                 1.237292                        0.145711   \n",
       "2                 1.599009                        0.165794   \n",
       "3                 1.318689                        0.146694   \n",
       "4                 2.122969                        0.116900   \n",
       "\n",
       "   forecast_price_energy_peak  ...  months_modif_prod  months_renewal  \\\n",
       "0                    0.098142  ...                  2               6   \n",
       "1                    0.000000  ...                 76               4   \n",
       "2                    0.087899  ...                 68               8   \n",
       "3                    0.000000  ...                 69               9   \n",
       "4                    0.100015  ...                 71               9   \n",
       "\n",
       "   channel_MISSING  channel_ewpakwlliwisiwduibdlfmalxowmwpci  \\\n",
       "0                0                                         0   \n",
       "1                1                                         0   \n",
       "2                0                                         0   \n",
       "3                0                                         0   \n",
       "4                1                                         0   \n",
       "\n",
       "   channel_foosdfpfkusacimwkcsosbicdxkicaua  \\\n",
       "0                                         1   \n",
       "1                                         0   \n",
       "2                                         1   \n",
       "3                                         0   \n",
       "4                                         0   \n",
       "\n",
       "   channel_lmkebamcaaclubfxadlmueccxoimlema  \\\n",
       "0                                         0   \n",
       "1                                         0   \n",
       "2                                         0   \n",
       "3                                         1   \n",
       "4                                         0   \n",
       "\n",
       "   channel_usilxuppasemubllopkaafesmlibmsdf  \\\n",
       "0                                         0   \n",
       "1                                         0   \n",
       "2                                         0   \n",
       "3                                         0   \n",
       "4                                         0   \n",
       "\n",
       "   origin_up_kamkkxfxxuwbdslkwifmmcsiusiuosws  \\\n",
       "0                                           0   \n",
       "1                                           1   \n",
       "2                                           1   \n",
       "3                                           1   \n",
       "4                                           1   \n",
       "\n",
       "   origin_up_ldkssxwpmemidmecebumciepifcamkci  \\\n",
       "0                                           0   \n",
       "1                                           0   \n",
       "2                                           0   \n",
       "3                                           0   \n",
       "4                                           0   \n",
       "\n",
       "   origin_up_lxidpiddsbxsbosboudacockeimpuepw  \n",
       "0                                           1  \n",
       "1                                           0  \n",
       "2                                           0  \n",
       "3                                           0  \n",
       "4                                           0  \n",
       "\n",
       "[5 rows x 64 columns]"
      ]
     },
     "execution_count": 2,
     "metadata": {},
     "output_type": "execute_result"
    }
   ],
   "source": [
    "df = pd.read_csv('forest.csv')\n",
    "df.head()"
   ]
  },
  {
   "cell_type": "code",
   "execution_count": 3,
   "id": "f5937b01-b589-4c0c-9f61-5f919a6884a6",
   "metadata": {},
   "outputs": [
    {
     "data": {
      "text/html": [
       "<div>\n",
       "<style scoped>\n",
       "    .dataframe tbody tr th:only-of-type {\n",
       "        vertical-align: middle;\n",
       "    }\n",
       "\n",
       "    .dataframe tbody tr th {\n",
       "        vertical-align: top;\n",
       "    }\n",
       "\n",
       "    .dataframe thead th {\n",
       "        text-align: right;\n",
       "    }\n",
       "</style>\n",
       "<table border=\"1\" class=\"dataframe\">\n",
       "  <thead>\n",
       "    <tr style=\"text-align: right;\">\n",
       "      <th></th>\n",
       "      <th>Unnamed: 0</th>\n",
       "      <th>cons_12m</th>\n",
       "      <th>cons_gas_12m</th>\n",
       "      <th>cons_last_month</th>\n",
       "      <th>forecast_cons_12m</th>\n",
       "      <th>forecast_discount_energy</th>\n",
       "      <th>forecast_meter_rent_12m</th>\n",
       "      <th>forecast_price_energy_off_peak</th>\n",
       "      <th>forecast_price_energy_peak</th>\n",
       "      <th>forecast_price_pow_off_peak</th>\n",
       "      <th>...</th>\n",
       "      <th>months_modif_prod</th>\n",
       "      <th>months_renewal</th>\n",
       "      <th>channel_MISSING</th>\n",
       "      <th>channel_ewpakwlliwisiwduibdlfmalxowmwpci</th>\n",
       "      <th>channel_foosdfpfkusacimwkcsosbicdxkicaua</th>\n",
       "      <th>channel_lmkebamcaaclubfxadlmueccxoimlema</th>\n",
       "      <th>channel_usilxuppasemubllopkaafesmlibmsdf</th>\n",
       "      <th>origin_up_kamkkxfxxuwbdslkwifmmcsiusiuosws</th>\n",
       "      <th>origin_up_ldkssxwpmemidmecebumciepifcamkci</th>\n",
       "      <th>origin_up_lxidpiddsbxsbosboudacockeimpuepw</th>\n",
       "    </tr>\n",
       "  </thead>\n",
       "  <tbody>\n",
       "    <tr>\n",
       "      <th>count</th>\n",
       "      <td>14606.000000</td>\n",
       "      <td>14606.000000</td>\n",
       "      <td>14606.000000</td>\n",
       "      <td>14606.000000</td>\n",
       "      <td>14606.000000</td>\n",
       "      <td>14606.000000</td>\n",
       "      <td>14606.000000</td>\n",
       "      <td>14606.000000</td>\n",
       "      <td>14606.000000</td>\n",
       "      <td>14606.000000</td>\n",
       "      <td>...</td>\n",
       "      <td>14606.000000</td>\n",
       "      <td>14606.000000</td>\n",
       "      <td>14606.000000</td>\n",
       "      <td>14606.000000</td>\n",
       "      <td>14606.000000</td>\n",
       "      <td>14606.000000</td>\n",
       "      <td>14606.000000</td>\n",
       "      <td>14606.000000</td>\n",
       "      <td>14606.000000</td>\n",
       "      <td>14606.000000</td>\n",
       "    </tr>\n",
       "    <tr>\n",
       "      <th>mean</th>\n",
       "      <td>7302.500000</td>\n",
       "      <td>4.223939</td>\n",
       "      <td>0.779244</td>\n",
       "      <td>2.264646</td>\n",
       "      <td>2.962177</td>\n",
       "      <td>0.966726</td>\n",
       "      <td>1.517203</td>\n",
       "      <td>0.137283</td>\n",
       "      <td>0.050491</td>\n",
       "      <td>43.130056</td>\n",
       "      <td>...</td>\n",
       "      <td>35.464056</td>\n",
       "      <td>4.910516</td>\n",
       "      <td>0.255032</td>\n",
       "      <td>0.061139</td>\n",
       "      <td>0.462413</td>\n",
       "      <td>0.126181</td>\n",
       "      <td>0.094139</td>\n",
       "      <td>0.293989</td>\n",
       "      <td>0.215528</td>\n",
       "      <td>0.485896</td>\n",
       "    </tr>\n",
       "    <tr>\n",
       "      <th>std</th>\n",
       "      <td>4216.533351</td>\n",
       "      <td>0.884515</td>\n",
       "      <td>1.717071</td>\n",
       "      <td>1.769305</td>\n",
       "      <td>0.683592</td>\n",
       "      <td>5.108289</td>\n",
       "      <td>0.571481</td>\n",
       "      <td>0.024623</td>\n",
       "      <td>0.049037</td>\n",
       "      <td>4.485988</td>\n",
       "      <td>...</td>\n",
       "      <td>30.248229</td>\n",
       "      <td>3.795906</td>\n",
       "      <td>0.435894</td>\n",
       "      <td>0.239594</td>\n",
       "      <td>0.498602</td>\n",
       "      <td>0.332065</td>\n",
       "      <td>0.292033</td>\n",
       "      <td>0.455602</td>\n",
       "      <td>0.411202</td>\n",
       "      <td>0.499818</td>\n",
       "    </tr>\n",
       "    <tr>\n",
       "      <th>min</th>\n",
       "      <td>0.000000</td>\n",
       "      <td>0.000000</td>\n",
       "      <td>0.000000</td>\n",
       "      <td>0.000000</td>\n",
       "      <td>0.000000</td>\n",
       "      <td>0.000000</td>\n",
       "      <td>0.000000</td>\n",
       "      <td>0.000000</td>\n",
       "      <td>0.000000</td>\n",
       "      <td>0.000000</td>\n",
       "      <td>...</td>\n",
       "      <td>0.000000</td>\n",
       "      <td>0.000000</td>\n",
       "      <td>0.000000</td>\n",
       "      <td>0.000000</td>\n",
       "      <td>0.000000</td>\n",
       "      <td>0.000000</td>\n",
       "      <td>0.000000</td>\n",
       "      <td>0.000000</td>\n",
       "      <td>0.000000</td>\n",
       "      <td>0.000000</td>\n",
       "    </tr>\n",
       "    <tr>\n",
       "      <th>25%</th>\n",
       "      <td>3651.250000</td>\n",
       "      <td>3.754023</td>\n",
       "      <td>0.000000</td>\n",
       "      <td>0.000000</td>\n",
       "      <td>2.695477</td>\n",
       "      <td>0.000000</td>\n",
       "      <td>1.235023</td>\n",
       "      <td>0.116340</td>\n",
       "      <td>0.000000</td>\n",
       "      <td>40.606701</td>\n",
       "      <td>...</td>\n",
       "      <td>6.000000</td>\n",
       "      <td>2.000000</td>\n",
       "      <td>0.000000</td>\n",
       "      <td>0.000000</td>\n",
       "      <td>0.000000</td>\n",
       "      <td>0.000000</td>\n",
       "      <td>0.000000</td>\n",
       "      <td>0.000000</td>\n",
       "      <td>0.000000</td>\n",
       "      <td>0.000000</td>\n",
       "    </tr>\n",
       "    <tr>\n",
       "      <th>50%</th>\n",
       "      <td>7302.500000</td>\n",
       "      <td>4.149727</td>\n",
       "      <td>0.000000</td>\n",
       "      <td>2.899547</td>\n",
       "      <td>3.046836</td>\n",
       "      <td>0.000000</td>\n",
       "      <td>1.296555</td>\n",
       "      <td>0.143166</td>\n",
       "      <td>0.084138</td>\n",
       "      <td>44.311378</td>\n",
       "      <td>...</td>\n",
       "      <td>30.000000</td>\n",
       "      <td>5.000000</td>\n",
       "      <td>0.000000</td>\n",
       "      <td>0.000000</td>\n",
       "      <td>0.000000</td>\n",
       "      <td>0.000000</td>\n",
       "      <td>0.000000</td>\n",
       "      <td>0.000000</td>\n",
       "      <td>0.000000</td>\n",
       "      <td>0.000000</td>\n",
       "    </tr>\n",
       "    <tr>\n",
       "      <th>75%</th>\n",
       "      <td>10953.750000</td>\n",
       "      <td>4.610285</td>\n",
       "      <td>0.000000</td>\n",
       "      <td>3.529430</td>\n",
       "      <td>3.380716</td>\n",
       "      <td>0.000000</td>\n",
       "      <td>2.120673</td>\n",
       "      <td>0.146348</td>\n",
       "      <td>0.098837</td>\n",
       "      <td>44.311378</td>\n",
       "      <td>...</td>\n",
       "      <td>64.000000</td>\n",
       "      <td>8.000000</td>\n",
       "      <td>1.000000</td>\n",
       "      <td>0.000000</td>\n",
       "      <td>1.000000</td>\n",
       "      <td>0.000000</td>\n",
       "      <td>0.000000</td>\n",
       "      <td>1.000000</td>\n",
       "      <td>0.000000</td>\n",
       "      <td>1.000000</td>\n",
       "    </tr>\n",
       "    <tr>\n",
       "      <th>max</th>\n",
       "      <td>14605.000000</td>\n",
       "      <td>6.792889</td>\n",
       "      <td>6.618528</td>\n",
       "      <td>5.887169</td>\n",
       "      <td>4.918575</td>\n",
       "      <td>30.000000</td>\n",
       "      <td>2.778376</td>\n",
       "      <td>0.273963</td>\n",
       "      <td>0.195975</td>\n",
       "      <td>59.266378</td>\n",
       "      <td>...</td>\n",
       "      <td>151.000000</td>\n",
       "      <td>30.000000</td>\n",
       "      <td>1.000000</td>\n",
       "      <td>1.000000</td>\n",
       "      <td>1.000000</td>\n",
       "      <td>1.000000</td>\n",
       "      <td>1.000000</td>\n",
       "      <td>1.000000</td>\n",
       "      <td>1.000000</td>\n",
       "      <td>1.000000</td>\n",
       "    </tr>\n",
       "  </tbody>\n",
       "</table>\n",
       "<p>8 rows × 63 columns</p>\n",
       "</div>"
      ],
      "text/plain": [
       "         Unnamed: 0      cons_12m  cons_gas_12m  cons_last_month  \\\n",
       "count  14606.000000  14606.000000  14606.000000     14606.000000   \n",
       "mean    7302.500000      4.223939      0.779244         2.264646   \n",
       "std     4216.533351      0.884515      1.717071         1.769305   \n",
       "min        0.000000      0.000000      0.000000         0.000000   \n",
       "25%     3651.250000      3.754023      0.000000         0.000000   \n",
       "50%     7302.500000      4.149727      0.000000         2.899547   \n",
       "75%    10953.750000      4.610285      0.000000         3.529430   \n",
       "max    14605.000000      6.792889      6.618528         5.887169   \n",
       "\n",
       "       forecast_cons_12m  forecast_discount_energy  forecast_meter_rent_12m  \\\n",
       "count       14606.000000              14606.000000             14606.000000   \n",
       "mean            2.962177                  0.966726                 1.517203   \n",
       "std             0.683592                  5.108289                 0.571481   \n",
       "min             0.000000                  0.000000                 0.000000   \n",
       "25%             2.695477                  0.000000                 1.235023   \n",
       "50%             3.046836                  0.000000                 1.296555   \n",
       "75%             3.380716                  0.000000                 2.120673   \n",
       "max             4.918575                 30.000000                 2.778376   \n",
       "\n",
       "       forecast_price_energy_off_peak  forecast_price_energy_peak  \\\n",
       "count                    14606.000000                14606.000000   \n",
       "mean                         0.137283                    0.050491   \n",
       "std                          0.024623                    0.049037   \n",
       "min                          0.000000                    0.000000   \n",
       "25%                          0.116340                    0.000000   \n",
       "50%                          0.143166                    0.084138   \n",
       "75%                          0.146348                    0.098837   \n",
       "max                          0.273963                    0.195975   \n",
       "\n",
       "       forecast_price_pow_off_peak  ...  months_modif_prod  months_renewal  \\\n",
       "count                 14606.000000  ...       14606.000000    14606.000000   \n",
       "mean                     43.130056  ...          35.464056        4.910516   \n",
       "std                       4.485988  ...          30.248229        3.795906   \n",
       "min                       0.000000  ...           0.000000        0.000000   \n",
       "25%                      40.606701  ...           6.000000        2.000000   \n",
       "50%                      44.311378  ...          30.000000        5.000000   \n",
       "75%                      44.311378  ...          64.000000        8.000000   \n",
       "max                      59.266378  ...         151.000000       30.000000   \n",
       "\n",
       "       channel_MISSING  channel_ewpakwlliwisiwduibdlfmalxowmwpci  \\\n",
       "count     14606.000000                              14606.000000   \n",
       "mean          0.255032                                  0.061139   \n",
       "std           0.435894                                  0.239594   \n",
       "min           0.000000                                  0.000000   \n",
       "25%           0.000000                                  0.000000   \n",
       "50%           0.000000                                  0.000000   \n",
       "75%           1.000000                                  0.000000   \n",
       "max           1.000000                                  1.000000   \n",
       "\n",
       "       channel_foosdfpfkusacimwkcsosbicdxkicaua  \\\n",
       "count                              14606.000000   \n",
       "mean                                   0.462413   \n",
       "std                                    0.498602   \n",
       "min                                    0.000000   \n",
       "25%                                    0.000000   \n",
       "50%                                    0.000000   \n",
       "75%                                    1.000000   \n",
       "max                                    1.000000   \n",
       "\n",
       "       channel_lmkebamcaaclubfxadlmueccxoimlema  \\\n",
       "count                              14606.000000   \n",
       "mean                                   0.126181   \n",
       "std                                    0.332065   \n",
       "min                                    0.000000   \n",
       "25%                                    0.000000   \n",
       "50%                                    0.000000   \n",
       "75%                                    0.000000   \n",
       "max                                    1.000000   \n",
       "\n",
       "       channel_usilxuppasemubllopkaafesmlibmsdf  \\\n",
       "count                              14606.000000   \n",
       "mean                                   0.094139   \n",
       "std                                    0.292033   \n",
       "min                                    0.000000   \n",
       "25%                                    0.000000   \n",
       "50%                                    0.000000   \n",
       "75%                                    0.000000   \n",
       "max                                    1.000000   \n",
       "\n",
       "       origin_up_kamkkxfxxuwbdslkwifmmcsiusiuosws  \\\n",
       "count                                14606.000000   \n",
       "mean                                     0.293989   \n",
       "std                                      0.455602   \n",
       "min                                      0.000000   \n",
       "25%                                      0.000000   \n",
       "50%                                      0.000000   \n",
       "75%                                      1.000000   \n",
       "max                                      1.000000   \n",
       "\n",
       "       origin_up_ldkssxwpmemidmecebumciepifcamkci  \\\n",
       "count                                14606.000000   \n",
       "mean                                     0.215528   \n",
       "std                                      0.411202   \n",
       "min                                      0.000000   \n",
       "25%                                      0.000000   \n",
       "50%                                      0.000000   \n",
       "75%                                      0.000000   \n",
       "max                                      1.000000   \n",
       "\n",
       "       origin_up_lxidpiddsbxsbosboudacockeimpuepw  \n",
       "count                                14606.000000  \n",
       "mean                                     0.485896  \n",
       "std                                      0.499818  \n",
       "min                                      0.000000  \n",
       "25%                                      0.000000  \n",
       "50%                                      0.000000  \n",
       "75%                                      1.000000  \n",
       "max                                      1.000000  \n",
       "\n",
       "[8 rows x 63 columns]"
      ]
     },
     "execution_count": 3,
     "metadata": {},
     "output_type": "execute_result"
    }
   ],
   "source": [
    "df.describe()"
   ]
  },
  {
   "cell_type": "code",
   "execution_count": 4,
   "id": "653e5a89-f91d-401e-a8cb-def5fa9b8aef",
   "metadata": {},
   "outputs": [
    {
     "name": "stdout",
     "output_type": "stream",
     "text": [
      "<class 'pandas.core.frame.DataFrame'>\n",
      "RangeIndex: 14606 entries, 0 to 14605\n",
      "Data columns (total 64 columns):\n",
      " #   Column                                      Non-Null Count  Dtype  \n",
      "---  ------                                      --------------  -----  \n",
      " 0   Unnamed: 0                                  14606 non-null  int64  \n",
      " 1   id                                          14606 non-null  object \n",
      " 2   cons_12m                                    14606 non-null  float64\n",
      " 3   cons_gas_12m                                14606 non-null  float64\n",
      " 4   cons_last_month                             14606 non-null  float64\n",
      " 5   forecast_cons_12m                           14606 non-null  float64\n",
      " 6   forecast_discount_energy                    14606 non-null  float64\n",
      " 7   forecast_meter_rent_12m                     14606 non-null  float64\n",
      " 8   forecast_price_energy_off_peak              14606 non-null  float64\n",
      " 9   forecast_price_energy_peak                  14606 non-null  float64\n",
      " 10  forecast_price_pow_off_peak                 14606 non-null  float64\n",
      " 11  has_gas                                     14606 non-null  int64  \n",
      " 12  imp_cons                                    14606 non-null  float64\n",
      " 13  margin_gross_pow_ele                        14606 non-null  float64\n",
      " 14  margin_net_pow_ele                          14606 non-null  float64\n",
      " 15  nb_prod_act                                 14606 non-null  int64  \n",
      " 16  net_margin                                  14606 non-null  float64\n",
      " 17  pow_max                                     14606 non-null  float64\n",
      " 18  var_year_price_off_peak_var                 14606 non-null  float64\n",
      " 19  var_year_price_peak_var                     14606 non-null  float64\n",
      " 20  var_year_price_mid_peak_var                 14606 non-null  float64\n",
      " 21  var_year_price_off_peak_fix                 14606 non-null  float64\n",
      " 22  var_year_price_peak_fix                     14606 non-null  float64\n",
      " 23  var_year_price_mid_peak_fix                 14606 non-null  float64\n",
      " 24  var_year_price_off_peak                     14606 non-null  float64\n",
      " 25  var_year_price_peak                         14606 non-null  float64\n",
      " 26  var_year_price_mid_peak                     14606 non-null  float64\n",
      " 27  var_6m_price_off_peak_var                   14606 non-null  float64\n",
      " 28  var_6m_price_peak_var                       14606 non-null  float64\n",
      " 29  var_6m_price_mid_peak_var                   14606 non-null  float64\n",
      " 30  var_6m_price_off_peak_fix                   14606 non-null  float64\n",
      " 31  var_6m_price_peak_fix                       14606 non-null  float64\n",
      " 32  var_6m_price_mid_peak_fix                   14606 non-null  float64\n",
      " 33  var_6m_price_off_peak                       14606 non-null  float64\n",
      " 34  var_6m_price_peak                           14606 non-null  float64\n",
      " 35  var_6m_price_mid_peak                       14606 non-null  float64\n",
      " 36  churn                                       14606 non-null  int64  \n",
      " 37  offpeak_diff_dec_january_energy             14606 non-null  float64\n",
      " 38  offpeak_diff_dec_january_power              14606 non-null  float64\n",
      " 39  off_peak_peak_var_mean_diff                 14606 non-null  float64\n",
      " 40  peak_mid_peak_var_mean_diff                 14606 non-null  float64\n",
      " 41  off_peak_mid_peak_var_mean_diff             14606 non-null  float64\n",
      " 42  off_peak_peak_fix_mean_diff                 14606 non-null  float64\n",
      " 43  peak_mid_peak_fix_mean_diff                 14606 non-null  float64\n",
      " 44  off_peak_mid_peak_fix_mean_diff             14606 non-null  float64\n",
      " 45  off_peak_peak_var_max_monthly_diff          14606 non-null  float64\n",
      " 46  peak_mid_peak_var_max_monthly_diff          14606 non-null  float64\n",
      " 47  off_peak_mid_peak_var_max_monthly_diff      14606 non-null  float64\n",
      " 48  off_peak_peak_fix_max_monthly_diff          14606 non-null  float64\n",
      " 49  peak_mid_peak_fix_max_monthly_diff          14606 non-null  float64\n",
      " 50  off_peak_mid_peak_fix_max_monthly_diff      14606 non-null  float64\n",
      " 51  tenure                                      14606 non-null  int64  \n",
      " 52  months_activ                                14606 non-null  int64  \n",
      " 53  months_to_end                               14606 non-null  int64  \n",
      " 54  months_modif_prod                           14606 non-null  int64  \n",
      " 55  months_renewal                              14606 non-null  int64  \n",
      " 56  channel_MISSING                             14606 non-null  int64  \n",
      " 57  channel_ewpakwlliwisiwduibdlfmalxowmwpci    14606 non-null  int64  \n",
      " 58  channel_foosdfpfkusacimwkcsosbicdxkicaua    14606 non-null  int64  \n",
      " 59  channel_lmkebamcaaclubfxadlmueccxoimlema    14606 non-null  int64  \n",
      " 60  channel_usilxuppasemubllopkaafesmlibmsdf    14606 non-null  int64  \n",
      " 61  origin_up_kamkkxfxxuwbdslkwifmmcsiusiuosws  14606 non-null  int64  \n",
      " 62  origin_up_ldkssxwpmemidmecebumciepifcamkci  14606 non-null  int64  \n",
      " 63  origin_up_lxidpiddsbxsbosboudacockeimpuepw  14606 non-null  int64  \n",
      "dtypes: float64(46), int64(17), object(1)\n",
      "memory usage: 7.1+ MB\n"
     ]
    }
   ],
   "source": [
    "df.info()"
   ]
  },
  {
   "cell_type": "code",
   "execution_count": 5,
   "id": "0cf77fee-e486-47ba-9821-90b923d23e8e",
   "metadata": {},
   "outputs": [
    {
     "data": {
      "text/plain": [
       "13187"
      ]
     },
     "execution_count": 5,
     "metadata": {},
     "output_type": "execute_result"
    }
   ],
   "source": [
    "count_zeros = (df['churn'] == 0).sum()\n",
    "count_zeros"
   ]
  },
  {
   "cell_type": "code",
   "execution_count": 6,
   "id": "f544fbb9-74da-4f4c-9228-39c0c00cafe4",
   "metadata": {},
   "outputs": [
    {
     "data": {
      "text/plain": [
       "1419"
      ]
     },
     "execution_count": 6,
     "metadata": {},
     "output_type": "execute_result"
    }
   ],
   "source": [
    "count_1 = (df['churn'] == 1).sum()\n",
    "count_1"
   ]
  },
  {
   "cell_type": "code",
   "execution_count": 7,
   "id": "60a16370-3407-4f78-bce6-116a058b5c97",
   "metadata": {},
   "outputs": [],
   "source": [
    "from sklearn import metrics\n",
    "from sklearn.model_selection import train_test_split\n",
    "from sklearn.ensemble import RandomForestClassifier"
   ]
  },
  {
   "cell_type": "code",
   "execution_count": 8,
   "id": "6ac95a77-c649-41d4-aafb-36b8d5bbc2f7",
   "metadata": {},
   "outputs": [],
   "source": [
    "x = df.drop(columns=['id','churn','Unnamed: 0'])\n",
    "y = df['churn']"
   ]
  },
  {
   "cell_type": "code",
   "execution_count": 9,
   "id": "fc8e4f02-ffa3-4d22-81d4-94195fe7f5b3",
   "metadata": {},
   "outputs": [],
   "source": [
    "x_train, x_test, y_train, y_test = train_test_split(x, y, test_size=0.3, random_state=42, stratify = y)"
   ]
  },
  {
   "cell_type": "code",
   "execution_count": 10,
   "id": "6c2eaa5f-c3a5-4205-ab57-203760b52ede",
   "metadata": {},
   "outputs": [
    {
     "data": {
      "text/plain": [
       "4382"
      ]
     },
     "execution_count": 10,
     "metadata": {},
     "output_type": "execute_result"
    }
   ],
   "source": [
    "len(x_test)"
   ]
  },
  {
   "cell_type": "code",
   "execution_count": 11,
   "id": "6bdb8788-7f5f-41dc-8915-2f092f35d0c2",
   "metadata": {},
   "outputs": [
    {
     "data": {
      "text/plain": [
       "10224"
      ]
     },
     "execution_count": 11,
     "metadata": {},
     "output_type": "execute_result"
    }
   ],
   "source": [
    "len(x_train)"
   ]
  },
  {
   "cell_type": "code",
   "execution_count": 12,
   "id": "7fc9d82e-9247-4c40-9311-e36bfffc7d8b",
   "metadata": {},
   "outputs": [],
   "source": [
    "model = RandomForestClassifier(n_estimators = 1000)"
   ]
  },
  {
   "cell_type": "code",
   "execution_count": 13,
   "id": "d9291bd9-a512-4217-ada6-473aa9740a83",
   "metadata": {},
   "outputs": [
    {
     "data": {
      "text/html": [
       "<style>#sk-container-id-1 {color: black;background-color: white;}#sk-container-id-1 pre{padding: 0;}#sk-container-id-1 div.sk-toggleable {background-color: white;}#sk-container-id-1 label.sk-toggleable__label {cursor: pointer;display: block;width: 100%;margin-bottom: 0;padding: 0.3em;box-sizing: border-box;text-align: center;}#sk-container-id-1 label.sk-toggleable__label-arrow:before {content: \"▸\";float: left;margin-right: 0.25em;color: #696969;}#sk-container-id-1 label.sk-toggleable__label-arrow:hover:before {color: black;}#sk-container-id-1 div.sk-estimator:hover label.sk-toggleable__label-arrow:before {color: black;}#sk-container-id-1 div.sk-toggleable__content {max-height: 0;max-width: 0;overflow: hidden;text-align: left;background-color: #f0f8ff;}#sk-container-id-1 div.sk-toggleable__content pre {margin: 0.2em;color: black;border-radius: 0.25em;background-color: #f0f8ff;}#sk-container-id-1 input.sk-toggleable__control:checked~div.sk-toggleable__content {max-height: 200px;max-width: 100%;overflow: auto;}#sk-container-id-1 input.sk-toggleable__control:checked~label.sk-toggleable__label-arrow:before {content: \"▾\";}#sk-container-id-1 div.sk-estimator input.sk-toggleable__control:checked~label.sk-toggleable__label {background-color: #d4ebff;}#sk-container-id-1 div.sk-label input.sk-toggleable__control:checked~label.sk-toggleable__label {background-color: #d4ebff;}#sk-container-id-1 input.sk-hidden--visually {border: 0;clip: rect(1px 1px 1px 1px);clip: rect(1px, 1px, 1px, 1px);height: 1px;margin: -1px;overflow: hidden;padding: 0;position: absolute;width: 1px;}#sk-container-id-1 div.sk-estimator {font-family: monospace;background-color: #f0f8ff;border: 1px dotted black;border-radius: 0.25em;box-sizing: border-box;margin-bottom: 0.5em;}#sk-container-id-1 div.sk-estimator:hover {background-color: #d4ebff;}#sk-container-id-1 div.sk-parallel-item::after {content: \"\";width: 100%;border-bottom: 1px solid gray;flex-grow: 1;}#sk-container-id-1 div.sk-label:hover label.sk-toggleable__label {background-color: #d4ebff;}#sk-container-id-1 div.sk-serial::before {content: \"\";position: absolute;border-left: 1px solid gray;box-sizing: border-box;top: 0;bottom: 0;left: 50%;z-index: 0;}#sk-container-id-1 div.sk-serial {display: flex;flex-direction: column;align-items: center;background-color: white;padding-right: 0.2em;padding-left: 0.2em;position: relative;}#sk-container-id-1 div.sk-item {position: relative;z-index: 1;}#sk-container-id-1 div.sk-parallel {display: flex;align-items: stretch;justify-content: center;background-color: white;position: relative;}#sk-container-id-1 div.sk-item::before, #sk-container-id-1 div.sk-parallel-item::before {content: \"\";position: absolute;border-left: 1px solid gray;box-sizing: border-box;top: 0;bottom: 0;left: 50%;z-index: -1;}#sk-container-id-1 div.sk-parallel-item {display: flex;flex-direction: column;z-index: 1;position: relative;background-color: white;}#sk-container-id-1 div.sk-parallel-item:first-child::after {align-self: flex-end;width: 50%;}#sk-container-id-1 div.sk-parallel-item:last-child::after {align-self: flex-start;width: 50%;}#sk-container-id-1 div.sk-parallel-item:only-child::after {width: 0;}#sk-container-id-1 div.sk-dashed-wrapped {border: 1px dashed gray;margin: 0 0.4em 0.5em 0.4em;box-sizing: border-box;padding-bottom: 0.4em;background-color: white;}#sk-container-id-1 div.sk-label label {font-family: monospace;font-weight: bold;display: inline-block;line-height: 1.2em;}#sk-container-id-1 div.sk-label-container {text-align: center;}#sk-container-id-1 div.sk-container {/* jupyter's `normalize.less` sets `[hidden] { display: none; }` but bootstrap.min.css set `[hidden] { display: none !important; }` so we also need the `!important` here to be able to override the default hidden behavior on the sphinx rendered scikit-learn.org. See: https://github.com/scikit-learn/scikit-learn/issues/21755 */display: inline-block !important;position: relative;}#sk-container-id-1 div.sk-text-repr-fallback {display: none;}</style><div id=\"sk-container-id-1\" class=\"sk-top-container\"><div class=\"sk-text-repr-fallback\"><pre>RandomForestClassifier(n_estimators=1000)</pre><b>In a Jupyter environment, please rerun this cell to show the HTML representation or trust the notebook. <br />On GitHub, the HTML representation is unable to render, please try loading this page with nbviewer.org.</b></div><div class=\"sk-container\" hidden><div class=\"sk-item\"><div class=\"sk-estimator sk-toggleable\"><input class=\"sk-toggleable__control sk-hidden--visually\" id=\"sk-estimator-id-1\" type=\"checkbox\" checked><label for=\"sk-estimator-id-1\" class=\"sk-toggleable__label sk-toggleable__label-arrow\">RandomForestClassifier</label><div class=\"sk-toggleable__content\"><pre>RandomForestClassifier(n_estimators=1000)</pre></div></div></div></div></div>"
      ],
      "text/plain": [
       "RandomForestClassifier(n_estimators=1000)"
      ]
     },
     "execution_count": 13,
     "metadata": {},
     "output_type": "execute_result"
    }
   ],
   "source": [
    "model.fit(x_train, y_train)"
   ]
  },
  {
   "cell_type": "code",
   "execution_count": 14,
   "id": "28b0b9a7-21a7-4511-b226-6736eb2aa100",
   "metadata": {},
   "outputs": [
    {
     "data": {
      "text/plain": [
       "array([0, 0, 0, ..., 0, 0, 0], dtype=int64)"
      ]
     },
     "execution_count": 14,
     "metadata": {},
     "output_type": "execute_result"
    }
   ],
   "source": [
    "churn_pred = model.predict(x_test)\n",
    "churn_pred"
   ]
  },
  {
   "cell_type": "code",
   "execution_count": 15,
   "id": "64615f16-d352-42c3-ab5b-c06396dec7a8",
   "metadata": {},
   "outputs": [
    {
     "data": {
      "text/plain": [
       "4343"
      ]
     },
     "execution_count": 15,
     "metadata": {},
     "output_type": "execute_result"
    }
   ],
   "source": [
    "count_0 = np.count_nonzero(churn_pred == 0)\n",
    "count_0"
   ]
  },
  {
   "cell_type": "code",
   "execution_count": 16,
   "id": "cbb03ba8-13bf-40fd-b79a-7dffaa59950f",
   "metadata": {},
   "outputs": [
    {
     "data": {
      "text/plain": [
       "39"
      ]
     },
     "execution_count": 16,
     "metadata": {},
     "output_type": "execute_result"
    }
   ],
   "source": [
    "count_1 = np.count_nonzero(churn_pred == 1)\n",
    "count_1"
   ]
  },
  {
   "cell_type": "code",
   "execution_count": 17,
   "id": "1b96ca7e-2ffd-495e-b5a4-708f848f43ec",
   "metadata": {},
   "outputs": [],
   "source": [
    "from sklearn import metrics"
   ]
  },
  {
   "cell_type": "code",
   "execution_count": 18,
   "id": "9fab1e99-a9af-46de-81d3-81e89c9226ca",
   "metadata": {},
   "outputs": [],
   "source": [
    "tn, fp, fn, tp = metrics.confusion_matrix(y_test, churn_pred).ravel()"
   ]
  },
  {
   "cell_type": "code",
   "execution_count": 19,
   "id": "cc476058-a3b8-45cb-9fb2-1aaf17fdb9c0",
   "metadata": {},
   "outputs": [
    {
     "data": {
      "text/plain": [
       "31"
      ]
     },
     "execution_count": 19,
     "metadata": {},
     "output_type": "execute_result"
    }
   ],
   "source": [
    "tp"
   ]
  },
  {
   "cell_type": "code",
   "execution_count": 20,
   "id": "5c1216ea-cbc2-4f7c-92c8-bf1d51bfbced",
   "metadata": {},
   "outputs": [
    {
     "data": {
      "text/plain": [
       "8"
      ]
     },
     "execution_count": 20,
     "metadata": {},
     "output_type": "execute_result"
    }
   ],
   "source": [
    "fp"
   ]
  },
  {
   "cell_type": "code",
   "execution_count": 21,
   "id": "ec089a9e-3cfb-457a-af1a-00b6fde55f8d",
   "metadata": {},
   "outputs": [
    {
     "data": {
      "text/plain": [
       "3948"
      ]
     },
     "execution_count": 21,
     "metadata": {},
     "output_type": "execute_result"
    }
   ],
   "source": [
    "tn"
   ]
  },
  {
   "cell_type": "code",
   "execution_count": 22,
   "id": "dc4aeab9-6e60-4243-a934-a5d2b4eba51e",
   "metadata": {},
   "outputs": [
    {
     "data": {
      "text/plain": [
       "395"
      ]
     },
     "execution_count": 22,
     "metadata": {},
     "output_type": "execute_result"
    }
   ],
   "source": [
    "fn"
   ]
  },
  {
   "cell_type": "code",
   "execution_count": 23,
   "id": "a701e989-bc5e-4b8b-b5ce-fef3078a68cd",
   "metadata": {},
   "outputs": [
    {
     "name": "stdout",
     "output_type": "stream",
     "text": [
      "0.9080328617069832\n",
      "0.7948717948717948\n",
      "0.07276995305164319\n"
     ]
    }
   ],
   "source": [
    "print(metrics.accuracy_score(y_test, churn_pred))\n",
    "print(metrics.precision_score(y_test, churn_pred))\n",
    "print(metrics.recall_score(y_test, churn_pred))"
   ]
  },
  {
   "cell_type": "code",
   "execution_count": 24,
   "id": "329b58e6-c4e8-4602-886d-44ad644fa01b",
   "metadata": {},
   "outputs": [
    {
     "data": {
      "text/plain": [
       "0.9080328617069832"
      ]
     },
     "execution_count": 24,
     "metadata": {},
     "output_type": "execute_result"
    }
   ],
   "source": [
    "model.score(x_test, y_test)"
   ]
  },
  {
   "cell_type": "code",
   "execution_count": 25,
   "id": "6737b2ec-b9ef-4636-be9b-c17fa4760f77",
   "metadata": {},
   "outputs": [
    {
     "data": {
      "text/plain": [
       "peak_mid_peak_fix_max_monthly_diff            0.001160\n",
       "forecast_discount_energy                      0.001267\n",
       "var_6m_price_mid_peak_fix                     0.002017\n",
       "var_6m_price_peak_fix                         0.002267\n",
       "channel_ewpakwlliwisiwduibdlfmalxowmwpci      0.002651\n",
       "channel_lmkebamcaaclubfxadlmueccxoimlema      0.003184\n",
       "var_year_price_mid_peak_fix                   0.004072\n",
       "var_6m_price_mid_peak_var                     0.004127\n",
       "var_year_price_peak_fix                       0.004226\n",
       "origin_up_ldkssxwpmemidmecebumciepifcamkci    0.004256\n",
       "dtype: float64"
      ]
     },
     "execution_count": 25,
     "metadata": {},
     "output_type": "execute_result"
    }
   ],
   "source": [
    "feature_importances = pd.Series(model.feature_importances_, index=x.columns).sort_values(ascending=True)\n",
    "feature_importances.head(10)"
   ]
  },
  {
   "cell_type": "code",
   "execution_count": 26,
   "id": "39b6e8fd-6e1d-471b-b72c-f959d9beb89e",
   "metadata": {},
   "outputs": [],
   "source": [
    "X = df.drop(columns=['Unnamed: 0','id','churn', \n",
    "                     'peak_mid_peak_fix_max_monthly_diff',\n",
    "                     'forecast_discount_energy',\n",
    "                     'var_6m_price_peak_fix',\n",
    "                     'var_6m_price_mid_peak_fix',\n",
    "                     'channel_ewpakwlliwisiwduibdlfmalxowmwpci',\n",
    "                     'channel_lmkebamcaaclubfxadlmueccxoimlema',\n",
    "                     'var_6m_price_mid_peak',\n",
    "                     'origin_up_ldkssxwpmemidmecebumciepifcamkci',\n",
    "                     'channel_usilxuppasemubllopkaafesmlibmsdf',\n",
    "                     'var_year_price_mid_peak_fix'])\n",
    "Y = df['churn']"
   ]
  },
  {
   "cell_type": "code",
   "execution_count": 27,
   "id": "3cf1c640-53e8-446c-9a82-ec5f1cf753f9",
   "metadata": {},
   "outputs": [],
   "source": [
    "X_train, X_test, Y_train, Y_test = train_test_split(X, Y, test_size=0.3, random_state=42)"
   ]
  },
  {
   "cell_type": "code",
   "execution_count": 28,
   "id": "238de11a-c71e-49bd-a076-2ccb22e73e74",
   "metadata": {},
   "outputs": [],
   "source": [
    "model_ = RandomForestClassifier()"
   ]
  },
  {
   "cell_type": "code",
   "execution_count": 29,
   "id": "238ac01f-7fb8-446f-a929-2ecd4b73dc98",
   "metadata": {},
   "outputs": [
    {
     "data": {
      "text/html": [
       "<style>#sk-container-id-2 {color: black;background-color: white;}#sk-container-id-2 pre{padding: 0;}#sk-container-id-2 div.sk-toggleable {background-color: white;}#sk-container-id-2 label.sk-toggleable__label {cursor: pointer;display: block;width: 100%;margin-bottom: 0;padding: 0.3em;box-sizing: border-box;text-align: center;}#sk-container-id-2 label.sk-toggleable__label-arrow:before {content: \"▸\";float: left;margin-right: 0.25em;color: #696969;}#sk-container-id-2 label.sk-toggleable__label-arrow:hover:before {color: black;}#sk-container-id-2 div.sk-estimator:hover label.sk-toggleable__label-arrow:before {color: black;}#sk-container-id-2 div.sk-toggleable__content {max-height: 0;max-width: 0;overflow: hidden;text-align: left;background-color: #f0f8ff;}#sk-container-id-2 div.sk-toggleable__content pre {margin: 0.2em;color: black;border-radius: 0.25em;background-color: #f0f8ff;}#sk-container-id-2 input.sk-toggleable__control:checked~div.sk-toggleable__content {max-height: 200px;max-width: 100%;overflow: auto;}#sk-container-id-2 input.sk-toggleable__control:checked~label.sk-toggleable__label-arrow:before {content: \"▾\";}#sk-container-id-2 div.sk-estimator input.sk-toggleable__control:checked~label.sk-toggleable__label {background-color: #d4ebff;}#sk-container-id-2 div.sk-label input.sk-toggleable__control:checked~label.sk-toggleable__label {background-color: #d4ebff;}#sk-container-id-2 input.sk-hidden--visually {border: 0;clip: rect(1px 1px 1px 1px);clip: rect(1px, 1px, 1px, 1px);height: 1px;margin: -1px;overflow: hidden;padding: 0;position: absolute;width: 1px;}#sk-container-id-2 div.sk-estimator {font-family: monospace;background-color: #f0f8ff;border: 1px dotted black;border-radius: 0.25em;box-sizing: border-box;margin-bottom: 0.5em;}#sk-container-id-2 div.sk-estimator:hover {background-color: #d4ebff;}#sk-container-id-2 div.sk-parallel-item::after {content: \"\";width: 100%;border-bottom: 1px solid gray;flex-grow: 1;}#sk-container-id-2 div.sk-label:hover label.sk-toggleable__label {background-color: #d4ebff;}#sk-container-id-2 div.sk-serial::before {content: \"\";position: absolute;border-left: 1px solid gray;box-sizing: border-box;top: 0;bottom: 0;left: 50%;z-index: 0;}#sk-container-id-2 div.sk-serial {display: flex;flex-direction: column;align-items: center;background-color: white;padding-right: 0.2em;padding-left: 0.2em;position: relative;}#sk-container-id-2 div.sk-item {position: relative;z-index: 1;}#sk-container-id-2 div.sk-parallel {display: flex;align-items: stretch;justify-content: center;background-color: white;position: relative;}#sk-container-id-2 div.sk-item::before, #sk-container-id-2 div.sk-parallel-item::before {content: \"\";position: absolute;border-left: 1px solid gray;box-sizing: border-box;top: 0;bottom: 0;left: 50%;z-index: -1;}#sk-container-id-2 div.sk-parallel-item {display: flex;flex-direction: column;z-index: 1;position: relative;background-color: white;}#sk-container-id-2 div.sk-parallel-item:first-child::after {align-self: flex-end;width: 50%;}#sk-container-id-2 div.sk-parallel-item:last-child::after {align-self: flex-start;width: 50%;}#sk-container-id-2 div.sk-parallel-item:only-child::after {width: 0;}#sk-container-id-2 div.sk-dashed-wrapped {border: 1px dashed gray;margin: 0 0.4em 0.5em 0.4em;box-sizing: border-box;padding-bottom: 0.4em;background-color: white;}#sk-container-id-2 div.sk-label label {font-family: monospace;font-weight: bold;display: inline-block;line-height: 1.2em;}#sk-container-id-2 div.sk-label-container {text-align: center;}#sk-container-id-2 div.sk-container {/* jupyter's `normalize.less` sets `[hidden] { display: none; }` but bootstrap.min.css set `[hidden] { display: none !important; }` so we also need the `!important` here to be able to override the default hidden behavior on the sphinx rendered scikit-learn.org. See: https://github.com/scikit-learn/scikit-learn/issues/21755 */display: inline-block !important;position: relative;}#sk-container-id-2 div.sk-text-repr-fallback {display: none;}</style><div id=\"sk-container-id-2\" class=\"sk-top-container\"><div class=\"sk-text-repr-fallback\"><pre>RandomForestClassifier()</pre><b>In a Jupyter environment, please rerun this cell to show the HTML representation or trust the notebook. <br />On GitHub, the HTML representation is unable to render, please try loading this page with nbviewer.org.</b></div><div class=\"sk-container\" hidden><div class=\"sk-item\"><div class=\"sk-estimator sk-toggleable\"><input class=\"sk-toggleable__control sk-hidden--visually\" id=\"sk-estimator-id-2\" type=\"checkbox\" checked><label for=\"sk-estimator-id-2\" class=\"sk-toggleable__label sk-toggleable__label-arrow\">RandomForestClassifier</label><div class=\"sk-toggleable__content\"><pre>RandomForestClassifier()</pre></div></div></div></div></div>"
      ],
      "text/plain": [
       "RandomForestClassifier()"
      ]
     },
     "execution_count": 29,
     "metadata": {},
     "output_type": "execute_result"
    }
   ],
   "source": [
    "model_.fit(X_train, Y_train)"
   ]
  },
  {
   "cell_type": "code",
   "execution_count": 30,
   "id": "b65ee5d1-b672-41d7-ae5a-a03ec1f3eb33",
   "metadata": {},
   "outputs": [
    {
     "data": {
      "text/plain": [
       "array([0, 0, 0, ..., 0, 0, 0], dtype=int64)"
      ]
     },
     "execution_count": 30,
     "metadata": {},
     "output_type": "execute_result"
    }
   ],
   "source": [
    "churn_pred_ = model_.predict(X_test)\n",
    "churn_pred_"
   ]
  },
  {
   "cell_type": "code",
   "execution_count": 31,
   "id": "930b035a-9152-4fc0-aa13-672e0795685c",
   "metadata": {},
   "outputs": [
    {
     "data": {
      "text/plain": [
       "4352"
      ]
     },
     "execution_count": 31,
     "metadata": {},
     "output_type": "execute_result"
    }
   ],
   "source": [
    "count_0_ = np.count_nonzero(churn_pred_ == 0)\n",
    "count_0_"
   ]
  },
  {
   "cell_type": "code",
   "execution_count": 32,
   "id": "687d2926-4fbb-4884-8267-c69ccfc53b3e",
   "metadata": {},
   "outputs": [
    {
     "data": {
      "text/plain": [
       "30"
      ]
     },
     "execution_count": 32,
     "metadata": {},
     "output_type": "execute_result"
    }
   ],
   "source": [
    "count_1_ = np.count_nonzero(churn_pred_ == 1)\n",
    "count_1_"
   ]
  },
  {
   "cell_type": "code",
   "execution_count": 33,
   "id": "587e62d9-8aa3-4c02-9581-c1746eda6ed7",
   "metadata": {},
   "outputs": [
    {
     "data": {
      "text/plain": [
       "0.9032405294386125"
      ]
     },
     "execution_count": 33,
     "metadata": {},
     "output_type": "execute_result"
    }
   ],
   "source": [
    "model_.score(X_test, Y_test)"
   ]
  }
 ],
 "metadata": {
  "kernelspec": {
   "display_name": "Python 3 (ipykernel)",
   "language": "python",
   "name": "python3"
  },
  "language_info": {
   "codemirror_mode": {
    "name": "ipython",
    "version": 3
   },
   "file_extension": ".py",
   "mimetype": "text/x-python",
   "name": "python",
   "nbconvert_exporter": "python",
   "pygments_lexer": "ipython3",
   "version": "3.11.7"
  }
 },
 "nbformat": 4,
 "nbformat_minor": 5
}
